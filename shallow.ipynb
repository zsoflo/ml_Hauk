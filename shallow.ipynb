{
 "cells": [
  {
   "cell_type": "code",
   "execution_count": 18,
   "id": "629af27a-82ba-4ff7-8300-02a035541169",
   "metadata": {},
   "outputs": [],
   "source": [
    "import os\n",
    "import pandas as pd\n",
    "\n",
    "SHALLOW_PATH = os.path.join(\"datasets\", \"song2020\")\n",
    "\n",
    "def create_directory(shallow_path = SHALLOW_PATH):\n",
    "    if not os.path.isdir(shallow_path):\n",
    "        os.makedirs(shallow_path)\n",
    "        # this creates a directory, \"datasets/housing\" in the workspace\n",
    "    shallow_path = os.path.join(shallow_path, \"shallow.csv\")\n",
    "\n",
    "create_directory()"
   ]
  },
  {
   "cell_type": "code",
   "execution_count": 19,
   "id": "10c219d2",
   "metadata": {},
   "outputs": [],
   "source": [
    "shallow_path = SHALLOW_PATH + \"/shallow.csv\""
   ]
  },
  {
   "cell_type": "code",
   "execution_count": 20,
   "id": "f538ae91",
   "metadata": {},
   "outputs": [
    {
     "data": {
      "text/html": [
       "<div>\n",
       "<style scoped>\n",
       "    .dataframe tbody tr th:only-of-type {\n",
       "        vertical-align: middle;\n",
       "    }\n",
       "\n",
       "    .dataframe tbody tr th {\n",
       "        vertical-align: top;\n",
       "    }\n",
       "\n",
       "    .dataframe thead th {\n",
       "        text-align: right;\n",
       "    }\n",
       "</style>\n",
       "<table border=\"1\" class=\"dataframe\">\n",
       "  <thead>\n",
       "    <tr style=\"text-align: right;\">\n",
       "      <th></th>\n",
       "      <th>Group</th>\n",
       "      <th>ID</th>\n",
       "      <th>List</th>\n",
       "      <th>Target</th>\n",
       "      <th>ACC</th>\n",
       "      <th>RT</th>\n",
       "      <th>logRT</th>\n",
       "      <th>Critical_Filler</th>\n",
       "      <th>Word_Nonword</th>\n",
       "      <th>Relation_type</th>\n",
       "      <th>Branching</th>\n",
       "    </tr>\n",
       "  </thead>\n",
       "  <tbody>\n",
       "    <tr>\n",
       "      <th>0</th>\n",
       "      <td>L1</td>\n",
       "      <td>L1_01</td>\n",
       "      <td>A</td>\n",
       "      <td>banoshment</td>\n",
       "      <td>1</td>\n",
       "      <td>423</td>\n",
       "      <td>6.0474</td>\n",
       "      <td>Filler</td>\n",
       "      <td>Nonword</td>\n",
       "      <td>Phonological</td>\n",
       "      <td>NaN</td>\n",
       "    </tr>\n",
       "    <tr>\n",
       "      <th>1</th>\n",
       "      <td>L1</td>\n",
       "      <td>L1_01</td>\n",
       "      <td>A</td>\n",
       "      <td>unawareness</td>\n",
       "      <td>1</td>\n",
       "      <td>603</td>\n",
       "      <td>6.4019</td>\n",
       "      <td>Critical</td>\n",
       "      <td>Word</td>\n",
       "      <td>Unrelated</td>\n",
       "      <td>Left</td>\n",
       "    </tr>\n",
       "    <tr>\n",
       "      <th>2</th>\n",
       "      <td>L1</td>\n",
       "      <td>L1_01</td>\n",
       "      <td>A</td>\n",
       "      <td>unholiness</td>\n",
       "      <td>1</td>\n",
       "      <td>739</td>\n",
       "      <td>6.6053</td>\n",
       "      <td>Critical</td>\n",
       "      <td>Word</td>\n",
       "      <td>Constituent</td>\n",
       "      <td>Left</td>\n",
       "    </tr>\n",
       "    <tr>\n",
       "      <th>3</th>\n",
       "      <td>L1</td>\n",
       "      <td>L1_01</td>\n",
       "      <td>A</td>\n",
       "      <td>bictimize</td>\n",
       "      <td>1</td>\n",
       "      <td>510</td>\n",
       "      <td>6.2344</td>\n",
       "      <td>Filler</td>\n",
       "      <td>Nonword</td>\n",
       "      <td>Phonological</td>\n",
       "      <td>NaN</td>\n",
       "    </tr>\n",
       "    <tr>\n",
       "      <th>4</th>\n",
       "      <td>L1</td>\n",
       "      <td>L1_01</td>\n",
       "      <td>A</td>\n",
       "      <td>unhappiness</td>\n",
       "      <td>1</td>\n",
       "      <td>370</td>\n",
       "      <td>5.9135</td>\n",
       "      <td>Critical</td>\n",
       "      <td>Word</td>\n",
       "      <td>Unrelated</td>\n",
       "      <td>Left</td>\n",
       "    </tr>\n",
       "  </tbody>\n",
       "</table>\n",
       "</div>"
      ],
      "text/plain": [
       "  Group     ID List       Target  ACC   RT   logRT Critical_Filler  \\\n",
       "0    L1  L1_01    A   banoshment    1  423  6.0474          Filler   \n",
       "1    L1  L1_01    A  unawareness    1  603  6.4019        Critical   \n",
       "2    L1  L1_01    A   unholiness    1  739  6.6053        Critical   \n",
       "3    L1  L1_01    A    bictimize    1  510  6.2344          Filler   \n",
       "4    L1  L1_01    A  unhappiness    1  370  5.9135        Critical   \n",
       "\n",
       "  Word_Nonword Relation_type Branching  \n",
       "0      Nonword  Phonological       NaN  \n",
       "1         Word     Unrelated      Left  \n",
       "2         Word   Constituent      Left  \n",
       "3      Nonword  Phonological       NaN  \n",
       "4         Word     Unrelated      Left  "
      ]
     },
     "execution_count": 20,
     "metadata": {},
     "output_type": "execute_result"
    }
   ],
   "source": [
    "shallow = pd.read_csv(shallow_path)\n",
    "shallow.head()"
   ]
  },
  {
   "cell_type": "code",
   "execution_count": 21,
   "id": "83eb133d",
   "metadata": {},
   "outputs": [
    {
     "name": "stdout",
     "output_type": "stream",
     "text": [
      "<class 'pandas.core.frame.DataFrame'>\n",
      "RangeIndex: 6500 entries, 0 to 6499\n",
      "Data columns (total 11 columns):\n",
      " #   Column           Non-Null Count  Dtype  \n",
      "---  ------           --------------  -----  \n",
      " 0   Group            6500 non-null   object \n",
      " 1   ID               6500 non-null   object \n",
      " 2   List             6500 non-null   object \n",
      " 3   Target           6500 non-null   object \n",
      " 4   ACC              6500 non-null   int64  \n",
      " 5   RT               6500 non-null   int64  \n",
      " 6   logRT            6429 non-null   float64\n",
      " 7   Critical_Filler  6500 non-null   object \n",
      " 8   Word_Nonword     6500 non-null   object \n",
      " 9   Relation_type    6500 non-null   object \n",
      " 10  Branching        1950 non-null   object \n",
      "dtypes: float64(1), int64(2), object(8)\n",
      "memory usage: 558.7+ KB\n"
     ]
    }
   ],
   "source": [
    "shallow.info()"
   ]
  },
  {
   "cell_type": "code",
   "execution_count": 22,
   "id": "b28478a7",
   "metadata": {},
   "outputs": [
    {
     "data": {
      "text/plain": [
       "Branching\n",
       "Left     0.6\n",
       "Right    0.4\n",
       "Name: proportion, dtype: float64"
      ]
     },
     "execution_count": 22,
     "metadata": {},
     "output_type": "execute_result"
    }
   ],
   "source": [
    "shallow[\"Group\"].value_counts()\n",
    "shallow[\"Branching\"].value_counts(\"Right\")\n"
   ]
  },
  {
   "cell_type": "code",
   "execution_count": 23,
   "id": "a010a4e6",
   "metadata": {},
   "outputs": [
    {
     "data": {
      "text/html": [
       "<div>\n",
       "<style scoped>\n",
       "    .dataframe tbody tr th:only-of-type {\n",
       "        vertical-align: middle;\n",
       "    }\n",
       "\n",
       "    .dataframe tbody tr th {\n",
       "        vertical-align: top;\n",
       "    }\n",
       "\n",
       "    .dataframe thead th {\n",
       "        text-align: right;\n",
       "    }\n",
       "</style>\n",
       "<table border=\"1\" class=\"dataframe\">\n",
       "  <thead>\n",
       "    <tr style=\"text-align: right;\">\n",
       "      <th></th>\n",
       "      <th>index</th>\n",
       "      <th>Group</th>\n",
       "      <th>ID</th>\n",
       "      <th>List</th>\n",
       "      <th>Target</th>\n",
       "      <th>ACC</th>\n",
       "      <th>RT</th>\n",
       "      <th>logRT</th>\n",
       "      <th>Critical_Filler</th>\n",
       "      <th>Word_Nonword</th>\n",
       "      <th>Relation_type</th>\n",
       "      <th>Branching</th>\n",
       "    </tr>\n",
       "  </thead>\n",
       "  <tbody>\n",
       "    <tr>\n",
       "      <th>0</th>\n",
       "      <td>0</td>\n",
       "      <td>L1</td>\n",
       "      <td>L1_01</td>\n",
       "      <td>A</td>\n",
       "      <td>banoshment</td>\n",
       "      <td>1</td>\n",
       "      <td>423</td>\n",
       "      <td>6.0474</td>\n",
       "      <td>Filler</td>\n",
       "      <td>Nonword</td>\n",
       "      <td>Phonological</td>\n",
       "      <td>NaN</td>\n",
       "    </tr>\n",
       "    <tr>\n",
       "      <th>1</th>\n",
       "      <td>1</td>\n",
       "      <td>L1</td>\n",
       "      <td>L1_01</td>\n",
       "      <td>A</td>\n",
       "      <td>unawareness</td>\n",
       "      <td>1</td>\n",
       "      <td>603</td>\n",
       "      <td>6.4019</td>\n",
       "      <td>Critical</td>\n",
       "      <td>Word</td>\n",
       "      <td>Unrelated</td>\n",
       "      <td>Left</td>\n",
       "    </tr>\n",
       "    <tr>\n",
       "      <th>2</th>\n",
       "      <td>2</td>\n",
       "      <td>L1</td>\n",
       "      <td>L1_01</td>\n",
       "      <td>A</td>\n",
       "      <td>unholiness</td>\n",
       "      <td>1</td>\n",
       "      <td>739</td>\n",
       "      <td>6.6053</td>\n",
       "      <td>Critical</td>\n",
       "      <td>Word</td>\n",
       "      <td>Constituent</td>\n",
       "      <td>Left</td>\n",
       "    </tr>\n",
       "    <tr>\n",
       "      <th>3</th>\n",
       "      <td>3</td>\n",
       "      <td>L1</td>\n",
       "      <td>L1_01</td>\n",
       "      <td>A</td>\n",
       "      <td>bictimize</td>\n",
       "      <td>1</td>\n",
       "      <td>510</td>\n",
       "      <td>6.2344</td>\n",
       "      <td>Filler</td>\n",
       "      <td>Nonword</td>\n",
       "      <td>Phonological</td>\n",
       "      <td>NaN</td>\n",
       "    </tr>\n",
       "    <tr>\n",
       "      <th>4</th>\n",
       "      <td>4</td>\n",
       "      <td>L1</td>\n",
       "      <td>L1_01</td>\n",
       "      <td>A</td>\n",
       "      <td>unhappiness</td>\n",
       "      <td>1</td>\n",
       "      <td>370</td>\n",
       "      <td>5.9135</td>\n",
       "      <td>Critical</td>\n",
       "      <td>Word</td>\n",
       "      <td>Unrelated</td>\n",
       "      <td>Left</td>\n",
       "    </tr>\n",
       "  </tbody>\n",
       "</table>\n",
       "</div>"
      ],
      "text/plain": [
       "   index Group     ID List       Target  ACC   RT   logRT Critical_Filler  \\\n",
       "0      0    L1  L1_01    A   banoshment    1  423  6.0474          Filler   \n",
       "1      1    L1  L1_01    A  unawareness    1  603  6.4019        Critical   \n",
       "2      2    L1  L1_01    A   unholiness    1  739  6.6053        Critical   \n",
       "3      3    L1  L1_01    A    bictimize    1  510  6.2344          Filler   \n",
       "4      4    L1  L1_01    A  unhappiness    1  370  5.9135        Critical   \n",
       "\n",
       "  Word_Nonword Relation_type Branching  \n",
       "0      Nonword  Phonological       NaN  \n",
       "1         Word     Unrelated      Left  \n",
       "2         Word   Constituent      Left  \n",
       "3      Nonword  Phonological       NaN  \n",
       "4         Word     Unrelated      Left  "
      ]
     },
     "execution_count": 23,
     "metadata": {},
     "output_type": "execute_result"
    }
   ],
   "source": [
    "shallow_with_id = shallow.reset_index()   # adds an `index` column\n",
    "shallow_with_id.head()"
   ]
  },
  {
   "cell_type": "code",
   "execution_count": 24,
   "id": "ddf2ecbe",
   "metadata": {},
   "outputs": [
    {
     "name": "stdout",
     "output_type": "stream",
     "text": [
      "      index Group     ID List        Target  ACC    RT   logRT  \\\n",
      "0         0    L1  L1_01    A    banoshment    1   423  6.0474   \n",
      "1         1    L1  L1_01    A   unawareness    1   603  6.4019   \n",
      "2         2    L1  L1_01    A    unholiness    1   739  6.6053   \n",
      "3         3    L1  L1_01    A     bictimize    1   510  6.2344   \n",
      "4         4    L1  L1_01    A   unhappiness    1   370  5.9135   \n",
      "...     ...   ...    ...  ...           ...  ...   ...     ...   \n",
      "6495   6495    L2  L2_38    F    impediment    0  1347  7.2056   \n",
      "6496   6496    L2  L2_38    F  reattachable    1  1578  7.3639   \n",
      "6497   6497    L2  L2_38    F   unsharpness    1  1991  7.5964   \n",
      "6498   6498    L2  L2_38    F   teasurement    0     0     NaN   \n",
      "6499   6499    L2  L2_38    F     bictimize    1  1468  7.2917   \n",
      "\n",
      "     Critical_Filler Word_Nonword Relation_type Branching  \n",
      "0             Filler      Nonword  Phonological       NaN  \n",
      "1           Critical         Word     Unrelated      Left  \n",
      "2           Critical         Word   Constituent      Left  \n",
      "3             Filler      Nonword  Phonological       NaN  \n",
      "4           Critical         Word     Unrelated      Left  \n",
      "...              ...          ...           ...       ...  \n",
      "6495          Filler         Word      Semantic       NaN  \n",
      "6496        Critical         Word     Unrelated      Left  \n",
      "6497        Critical         Word     Unrelated      Left  \n",
      "6498          Filler      Nonword  Phonological       NaN  \n",
      "6499          Filler      Nonword  Phonological       NaN  \n",
      "\n",
      "[6500 rows x 12 columns]\n"
     ]
    }
   ],
   "source": [
    "print(shallow_with_id)"
   ]
  },
  {
   "cell_type": "code",
   "execution_count": 25,
   "id": "0dfc1ed3",
   "metadata": {},
   "outputs": [],
   "source": [
    "from sklearn.model_selection import train_test_split\n",
    "from sklearn.model_selection import StratifiedShuffleSplit\n",
    "\n",
    "split = StratifiedShuffleSplit(n_splits = 1, test_size = 0.2, random_state = 42)\n",
    "for train_index, test_index in split.split(shallow, shallow[\"Group\"]):\n",
    "    strat_train_set = shallow.loc[train_index]\n",
    "    strat_test_set = shallow.loc[test_index]"
   ]
  },
  {
   "cell_type": "code",
   "execution_count": 26,
   "id": "d0fbf5bd",
   "metadata": {},
   "outputs": [
    {
     "data": {
      "text/plain": [
       "Group\n",
       "L2    0.553846\n",
       "L1    0.446154\n",
       "Name: count, dtype: float64"
      ]
     },
     "execution_count": 26,
     "metadata": {},
     "output_type": "execute_result"
    }
   ],
   "source": [
    "strat_test_set[\"Group\"].value_counts() / len(strat_test_set)"
   ]
  },
  {
   "cell_type": "code",
   "execution_count": 27,
   "id": "1e915a74",
   "metadata": {},
   "outputs": [
    {
     "data": {
      "text/html": [
       "<div>\n",
       "<style scoped>\n",
       "    .dataframe tbody tr th:only-of-type {\n",
       "        vertical-align: middle;\n",
       "    }\n",
       "\n",
       "    .dataframe tbody tr th {\n",
       "        vertical-align: top;\n",
       "    }\n",
       "\n",
       "    .dataframe thead th {\n",
       "        text-align: right;\n",
       "    }\n",
       "</style>\n",
       "<table border=\"1\" class=\"dataframe\">\n",
       "  <thead>\n",
       "    <tr style=\"text-align: right;\">\n",
       "      <th></th>\n",
       "      <th>Overall %</th>\n",
       "      <th>Stratified %</th>\n",
       "      <th>Random %</th>\n",
       "      <th>Strat. Error %</th>\n",
       "      <th>Rand. Error %</th>\n",
       "    </tr>\n",
       "    <tr>\n",
       "      <th>Group</th>\n",
       "      <th></th>\n",
       "      <th></th>\n",
       "      <th></th>\n",
       "      <th></th>\n",
       "      <th></th>\n",
       "    </tr>\n",
       "  </thead>\n",
       "  <tbody>\n",
       "    <tr>\n",
       "      <th>L1</th>\n",
       "      <td>44.62</td>\n",
       "      <td>44.62</td>\n",
       "      <td>45.62</td>\n",
       "      <td>0.0</td>\n",
       "      <td>2.24</td>\n",
       "    </tr>\n",
       "    <tr>\n",
       "      <th>L2</th>\n",
       "      <td>55.38</td>\n",
       "      <td>55.38</td>\n",
       "      <td>54.38</td>\n",
       "      <td>0.0</td>\n",
       "      <td>-1.81</td>\n",
       "    </tr>\n",
       "  </tbody>\n",
       "</table>\n",
       "</div>"
      ],
      "text/plain": [
       "       Overall %  Stratified %  Random %  Strat. Error %  Rand. Error %\n",
       "Group                                                                  \n",
       "L1         44.62         44.62     45.62             0.0           2.24\n",
       "L2         55.38         55.38     54.38             0.0          -1.81"
      ]
     },
     "execution_count": 27,
     "metadata": {},
     "output_type": "execute_result"
    }
   ],
   "source": [
    "def group_proportions(data):\n",
    "    return data[\"Group\"].value_counts() / len(data)\n",
    "\n",
    "train_set, test_set = train_test_split(shallow, test_size=0.2, random_state=42)\n",
    "\n",
    "compare_props = pd.DataFrame({\n",
    "    \"Overall %\": group_proportions(shallow),\n",
    "    \"Stratified %\": group_proportions(strat_test_set),\n",
    "    \"Random %\": group_proportions(test_set),\n",
    "}).sort_index()\n",
    "compare_props.index.name = \"Group\"\n",
    "compare_props[\"Strat. Error %\"] = (compare_props[\"Stratified %\"] /\n",
    "                                   compare_props[\"Overall %\"] - 1)\n",
    "compare_props[\"Rand. Error %\"] = (compare_props[\"Random %\"] /\n",
    "                                  compare_props[\"Overall %\"] - 1)\n",
    "(compare_props * 100).round(2)"
   ]
  },
  {
   "cell_type": "code",
   "execution_count": 28,
   "id": "e9944afc",
   "metadata": {},
   "outputs": [],
   "source": [
    "shallow2 = strat_train_set.copy()"
   ]
  },
  {
   "cell_type": "code",
   "execution_count": 40,
   "id": "89715384",
   "metadata": {},
   "outputs": [
    {
     "data": {
      "text/plain": [
       "array([[<Axes: xlabel='logRT', ylabel='logRT'>]], dtype=object)"
      ]
     },
     "execution_count": 40,
     "metadata": {},
     "output_type": "execute_result"
    },
    {
     "data": {
      "image/png": "[encoded data removed]",
      "text/plain": [
       "<Figure size 1200x800 with 1 Axes>"
      ]
     },
     "metadata": {},
     "output_type": "display_data"
    }
   ],
   "source": [
    "from pandas.plotting import scatter_matrix\n",
    "attributes = [\"logRT\", \"Relation_type\"]\n",
    "scatter_matrix(shallow2[attributes], figsize=(12, 8))"
   ]
  },
  {
   "cell_type": "markdown",
   "id": "9164efae",
   "metadata": {},
   "source": []
  }
 ],
 "metadata": {
  "kernelspec": {
   "display_name": "Python 3 (ipykernel)",
   "language": "python",
   "name": "python3"
  },
  "language_info": {
   "codemirror_mode": {
    "name": "ipython",
    "version": 3
   },
   "file_extension": ".py",
   "mimetype": "text/x-python",
   "name": "python",
   "nbconvert_exporter": "python",
   "pygments_lexer": "ipython3",
   "version": "3.11.5"
  }
 },
 "nbformat": 4,
 "nbformat_minor": 5
}
